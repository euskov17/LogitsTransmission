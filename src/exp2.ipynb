{
 "cells": [
  {
   "cell_type": "code",
   "execution_count": null,
   "id": "7c3359e0",
   "metadata": {},
   "outputs": [],
   "source": [
    "import torch\n",
    "import torch.nn as nn\n",
    "import numpy as np\n",
    "\n",
    "from splitters import get_imbalanced_client_loaders\n",
    "from states import ClientState, AdamClientState\n",
    "from LogitsTransmition.src.src.algorithms.compresors import CompressedModel, IdenticalCompressor, ExpDitheringCompressor, RandKCompressor, TopKCompressor\n",
    "from validation_utils import total_evaluation, evaluate\n",
    "from algorithms.feen import feen_training_step\n",
    "from algorithms.fedavg import fed_avg_training_step\n",
    "from models import ResNet18"
   ]
  },
  {
   "cell_type": "code",
   "execution_count": 2,
   "id": "e978c392",
   "metadata": {},
   "outputs": [],
   "source": [
    "num_clients = 10\n",
    "gamma = 1e-4\n",
    "lmbd = 0.1\n",
    "device = torch.device(\"cuda:7\" if torch.cuda.is_available() else \"cpu\")\n",
    "\n",
    "models = [CompressedModel(ResNet18(num_clients), TopKCompressor()).to(device) for _ in range(num_clients)]\n",
    "client_optimizers = [torch.optim.Adam(model.parameters(), lr=1e-5) for model in models]\n",
    "clients_states = [AdamClientState(model, lmbd, gamma) for model in models]\n",
    "criterion = nn.CrossEntropyLoss()\n"
   ]
  },
  {
   "cell_type": "code",
   "execution_count": 3,
   "id": "1299c6d8",
   "metadata": {},
   "outputs": [],
   "source": [
    "local_train_loader, local_test_loader, common_loader, validation_loader = get_imbalanced_client_loaders(num_clients, classes_per_client=3)"
   ]
  },
  {
   "cell_type": "code",
   "execution_count": 4,
   "id": "d85526ea",
   "metadata": {},
   "outputs": [],
   "source": [
    "model = ResNet18(num_clients).to(device)\n",
    "optimizer = torch.optim.Adam(model.parameters())\n",
    "criterion = nn.CrossEntropyLoss()"
   ]
  },
  {
   "cell_type": "code",
   "execution_count": 5,
   "id": "fdec953b",
   "metadata": {},
   "outputs": [
    {
     "name": "stdout",
     "output_type": "stream",
     "text": [
      "Accuracy0.1297\n",
      "Accuracy0.0938\n",
      "Accuracy0.1002\n",
      "Accuracy0.1291\n",
      "Accuracy0.1458\n",
      "Accuracy0.1266\n",
      "Accuracy0.1361\n",
      "Accuracy0.1842\n",
      "Accuracy0.2114\n",
      "Accuracy0.2336\n"
     ]
    }
   ],
   "source": [
    "for _ in range(10):\n",
    "    for inputs, target in common_loader:\n",
    "        inputs = inputs.to(device)\n",
    "        target = target.to(device)\n",
    "\n",
    "        logits = model(inputs)\n",
    "        loss = criterion(logits, target)\n",
    "\n",
    "        optimizer.zero_grad()\n",
    "        loss.backward()\n",
    "        optimizer.step()\n",
    "    \n",
    "    print(f\"Accuracy{evaluate(model, validation_loader, device)}\")"
   ]
  },
  {
   "cell_type": "code",
   "execution_count": 6,
   "id": "fc254e94",
   "metadata": {},
   "outputs": [
    {
     "name": "stdout",
     "output_type": "stream",
     "text": [
      "Accuracy0.2329\n",
      "Accuracy0.2538\n",
      "Accuracy0.2819\n",
      "Accuracy0.2499\n",
      "Accuracy0.2922\n",
      "Accuracy0.2922\n",
      "Accuracy0.286\n",
      "Accuracy0.3057\n",
      "Accuracy0.3059\n",
      "Accuracy0.2995\n"
     ]
    }
   ],
   "source": [
    "for _ in range(10):\n",
    "    for inputs, target in common_loader:\n",
    "        inputs = inputs.to(device)\n",
    "        target = target.to(device)\n",
    "\n",
    "        logits = model(inputs)\n",
    "        loss = criterion(logits, target)\n",
    "\n",
    "        optimizer.zero_grad()\n",
    "        loss.backward()\n",
    "        optimizer.step()\n",
    "    \n",
    "    print(f\"Accuracy{evaluate(model, validation_loader, device)}\")"
   ]
  },
  {
   "cell_type": "code",
   "execution_count": 7,
   "id": "de1d2b64",
   "metadata": {},
   "outputs": [
    {
     "name": "stdout",
     "output_type": "stream",
     "text": [
      "Accuracy0.3304\n",
      "Accuracy0.3246\n",
      "Accuracy0.3201\n",
      "Accuracy0.3324\n",
      "Accuracy0.3336\n",
      "Accuracy0.3389\n",
      "Accuracy0.3436\n",
      "Accuracy0.3281\n",
      "Accuracy0.3335\n",
      "Accuracy0.3186\n"
     ]
    }
   ],
   "source": [
    "for _ in range(10):\n",
    "    for inputs, target in common_loader:\n",
    "        inputs = inputs.to(device)\n",
    "        target = target.to(device)\n",
    "\n",
    "        logits = model(inputs)\n",
    "        loss = criterion(logits, target)\n",
    "\n",
    "        optimizer.zero_grad()\n",
    "        loss.backward()\n",
    "        optimizer.step()\n",
    "    \n",
    "    print(f\"Accuracy{evaluate(model, validation_loader, device)}\")"
   ]
  }
 ],
 "metadata": {
  "kernelspec": {
   "display_name": ".venv",
   "language": "python",
   "name": "python3"
  },
  "language_info": {
   "codemirror_mode": {
    "name": "ipython",
    "version": 3
   },
   "file_extension": ".py",
   "mimetype": "text/x-python",
   "name": "python",
   "nbconvert_exporter": "python",
   "pygments_lexer": "ipython3",
   "version": "3.11.11"
  }
 },
 "nbformat": 4,
 "nbformat_minor": 5
}
