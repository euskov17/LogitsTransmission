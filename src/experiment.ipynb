{
 "cells": [
  {
   "cell_type": "code",
   "execution_count": 1,
   "id": "9b2cbe69",
   "metadata": {},
   "outputs": [],
   "source": [
    "import torch\n",
    "import torch.nn as nn\n",
    "import numpy as np\n",
    "\n",
    "from splitters import get_imbalanced_client_loaders\n",
    "from states import ClientState, AdamClientState\n",
    "from compresors import compress_model, IdenticalCompressor, ExpDitheringCompressor, RandKCompressor\n",
    "from validation_utils import total_evaluation\n",
    "from algorithms.feen import feen_training_step\n",
    "from algorithms.fedavg import fed_avg_training_step\n",
    "from models import ResNet18"
   ]
  },
  {
   "cell_type": "code",
   "execution_count": 2,
   "id": "f0702729",
   "metadata": {},
   "outputs": [],
   "source": [
    "num_clients = 10\n",
    "gamma = 1e-3\n",
    "lmbd = 0.1\n",
    "device = torch.device(\"cuda:2\" if torch.cuda.is_available() else \"cpu\")\n",
    "\n",
    "models = [ResNet18(num_clients).to(device) for _ in range(num_clients)]\n",
    "client_optimizers = [torch.optim.Adam(model.parameters(), lr=1e-5) for model in models]\n",
    "clients_states = [ClientState(model, lmbd, gamma) for model in models]\n",
    "criterion = nn.CrossEntropyLoss()\n"
   ]
  },
  {
   "cell_type": "code",
   "execution_count": 3,
   "id": "f101ca77",
   "metadata": {},
   "outputs": [],
   "source": [
    "local_train_loader, local_test_loader, common_loader, validation_loader = get_imbalanced_client_loaders(num_clients)"
   ]
  },
  {
   "cell_type": "code",
   "execution_count": 5,
   "id": "ce34574d",
   "metadata": {},
   "outputs": [
    {
     "name": "stdout",
     "output_type": "stream",
     "text": [
      "Ensemble accuracy 0.216 || Single accuracy = 0.195 +- 0.025 || Local accuracy = 0.276 +- 0.030\n",
      "Ensemble accuracy 0.299 || Single accuracy = 0.271 +- 0.009 || Local accuracy = 0.377 +- 0.026\n",
      "Ensemble accuracy 0.338 || Single accuracy = 0.310 +- 0.016 || Local accuracy = 0.438 +- 0.030\n",
      "Ensemble accuracy 0.366 || Single accuracy = 0.330 +- 0.017 || Local accuracy = 0.462 +- 0.029\n",
      "Ensemble accuracy 0.396 || Single accuracy = 0.342 +- 0.017 || Local accuracy = 0.477 +- 0.025\n",
      "Ensemble accuracy 0.407 || Single accuracy = 0.347 +- 0.017 || Local accuracy = 0.490 +- 0.029\n",
      "Ensemble accuracy 0.431 || Single accuracy = 0.350 +- 0.017 || Local accuracy = 0.489 +- 0.029\n",
      "Ensemble accuracy 0.439 || Single accuracy = 0.349 +- 0.018 || Local accuracy = 0.490 +- 0.030\n",
      "Ensemble accuracy 0.444 || Single accuracy = 0.348 +- 0.020 || Local accuracy = 0.489 +- 0.034\n",
      "Ensemble accuracy 0.450 || Single accuracy = 0.347 +- 0.018 || Local accuracy = 0.489 +- 0.033\n"
     ]
    }
   ],
   "source": [
    "for i in range(100):\n",
    "    feen_training_step(models, clients_states, client_optimizers, \n",
    "                       local_train_loader, common_loader, criterion, device)\n",
    "    if i % 10 == 0:\n",
    "        metrics = total_evaluation(models, local_test_loader, validation_loader, device)\n",
    "        print(f\"Ensemble accuracy {metrics['ensemble_accuracy']:.3f} || Single accuracy = {np.mean(metrics['single_accuracies']):.3f} +- {np.std(metrics['single_accuracies']):.3f} || Local accuracy = {np.mean(metrics['local_accuracies']):.3f} +- {np.std(metrics['local_accuracies']):.3f}\")\n"
   ]
  }
 ],
 "metadata": {
  "kernelspec": {
   "display_name": ".venv",
   "language": "python",
   "name": "python3"
  },
  "language_info": {
   "codemirror_mode": {
    "name": "ipython",
    "version": 3
   },
   "file_extension": ".py",
   "mimetype": "text/x-python",
   "name": "python",
   "nbconvert_exporter": "python",
   "pygments_lexer": "ipython3",
   "version": "3.11.11"
  }
 },
 "nbformat": 4,
 "nbformat_minor": 5
}
